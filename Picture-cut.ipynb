{
 "cells": [
  {
   "cell_type": "code",
   "execution_count": 32,
   "metadata": {},
   "outputs": [],
   "source": [
    "import cv2\n",
    "import os \n",
    "from tqdm import tqdm"
   ]
  },
  {
   "cell_type": "code",
   "execution_count": 33,
   "metadata": {},
   "outputs": [
    {
     "data": {
      "text/plain": [
       "True"
      ]
     },
     "execution_count": 33,
     "metadata": {},
     "output_type": "execute_result"
    }
   ],
   "source": [
    "image = cv2.imread(r'D:\\python code\\NTU\\27.jpg') \n",
    "sp = image.shape            #获取图像形状：返回【行数值，列数值】列表\n",
    "sz1 = sp[0]                 #图像的高度（行 范围）\n",
    "sz2 = sp[1]                 #图像的宽度（列 范围）\n",
    "#sz3 = sp[2]                #像素值由【RGB】三原色组成\n",
    "\n",
    "#你想对文件的操作\n",
    "a=int(sz1/2-88) # x start\n",
    "b=int(sz1/2+88) # x end\n",
    "c=int(sz2/2-78) # y start\n",
    "d=int(sz2/2+78) # y end\n",
    "cropImg = image[a:b,c:d]   #裁剪图像\n",
    "cv2.imwrite(r'D:\\python code\\NTU\\cut.jpg',cropImg)  #写入图像路径\n"
   ]
  },
  {
   "cell_type": "code",
   "execution_count": 34,
   "metadata": {},
   "outputs": [],
   "source": [
    "def cut(old_train_path,new_train_path):\n",
    "    fold_old = os.listdir(old_train_path) #假设old_path都在train目录\n",
    "    #newpath的定位也定在train下\n",
    "    for fold in fold_old:\n",
    "        fold_new_path = new_train_path + '/' + fold\n",
    "        if not os.path.exists(fold_new_path):\n",
    "            os.makedirs(fold_new_path)\n",
    "        old_path = old_train_path + '/' + fold\n",
    "        #图片的一个list\n",
    "        i = 0\n",
    "        img_old = os.listdir(old_path)\n",
    "        for img_old in tqdm(img_old):\n",
    "            image = cv2.imread(old_path + '/' + img_old)\n",
    "            sp = image.shape            #获取图像形状：返回【行数值，列数值】列表\n",
    "            sz1 = sp[0]                 #图像的高度（行 范围）\n",
    "            sz2 = sp[1]                 #图像的宽度（列 范围）\n",
    "            #sz3 = sp[2]                #像素值由【RGB】三原色组成\n",
    "\n",
    "            #你想对文件的操作\n",
    "            a=int(sz1/2-88) # x start\n",
    "            b=int(sz1/2+88) # x end\n",
    "            c=int(sz2/2-78) # y start\n",
    "            d=int(sz2/2+78) # y end\n",
    "            cropImg = image[a:b,c:d]   #裁剪图像\n",
    "            save_path = (fold_new_path + '/' + 'cut' +'{0}'+'.jpg').format(i)\n",
    "            i+=1\n",
    "            cv2.imencode(\".jpg\", cropImg)[1].tofile(save_path)"
   ]
  },
  {
   "cell_type": "code",
   "execution_count": 35,
   "metadata": {},
   "outputs": [],
   "source": [
    "old_train_path = 'D:/python code/NTU/new data/811/new811/train'\n",
    "new_train_path = 'D:/python code/NTU/new data/811/cut811-1/train'\n",
    "\n",
    "old_test_path = 'D:/python code/NTU/new data/811/cut811/test'\n",
    "new_test_path = 'D:/python code/NTU/new data/811/cut811-1/test'\n",
    "\n",
    "old_val_path = 'D:/python code/NTU/new data/811/cut811/val'\n",
    "new_val_path = 'D:/python code/NTU/new data/811/cut811-1/val'"
   ]
  },
  {
   "cell_type": "code",
   "execution_count": 36,
   "metadata": {},
   "outputs": [
    {
     "name": "stderr",
     "output_type": "stream",
     "text": [
      "100%|██████████| 1285/1285 [00:02<00:00, 481.47it/s]\n",
      "100%|██████████| 92/92 [00:00<00:00, 520.65it/s]\n",
      "100%|██████████| 4554/4554 [00:10<00:00, 416.69it/s]\n",
      "100%|██████████| 3206/3206 [00:12<00:00, 263.46it/s]\n"
     ]
    }
   ],
   "source": [
    "cut(old_train_path,new_train_path)"
   ]
  },
  {
   "cell_type": "code",
   "execution_count": 37,
   "metadata": {},
   "outputs": [
    {
     "name": "stderr",
     "output_type": "stream",
     "text": [
      "100%|██████████| 149/149 [00:00<00:00, 300.56it/s]\n",
      "100%|██████████| 12/12 [00:00<00:00, 438.53it/s]\n",
      "100%|██████████| 434/434 [00:01<00:00, 232.99it/s]\n",
      "100%|██████████| 327/327 [00:01<00:00, 325.51it/s]\n",
      "100%|██████████| 149/149 [00:00<00:00, 163.85it/s]\n",
      "100%|██████████| 11/11 [00:00<00:00, 351.16it/s]\n",
      "100%|██████████| 433/433 [00:01<00:00, 279.83it/s]\n",
      "100%|██████████| 326/326 [00:00<00:00, 539.27it/s]\n"
     ]
    }
   ],
   "source": [
    "cut(old_test_path,new_test_path)\n",
    "cut(old_val_path,new_val_path)"
   ]
  }
 ],
 "metadata": {
  "language_info": {
   "name": "python"
  },
  "orig_nbformat": 4
 },
 "nbformat": 4,
 "nbformat_minor": 2
}
