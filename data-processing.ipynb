{
 "cells": [
  {
   "cell_type": "code",
   "execution_count": 6,
   "metadata": {},
   "outputs": [
    {
     "name": "stdout",
     "output_type": "stream",
     "text": [
      "1 Physical GPUs, 1 Logical GPUs\n"
     ]
    }
   ],
   "source": [
    "import tensorflow as tf\n",
    "gpus = tf.config.experimental.list_physical_devices('GPU')\n",
    "if gpus:\n",
    "    try:\n",
    "        # Restrict TensorFlow to only use the fourth GPU\n",
    "        tf.config.experimental.set_visible_devices(gpus[0], 'GPU')\n",
    "\n",
    "        # Currently, memory growth needs to be the same across GPUs\n",
    "        for gpu in gpus:\n",
    "            tf.config.experimental.set_memory_growth(gpu, True)\n",
    "        logical_gpus = tf.config.experimental.list_logical_devices('GPU')\n",
    "        print(len(gpus), \"Physical GPUs,\", len(logical_gpus), \"Logical GPUs\")\n",
    "    except RuntimeError as e:\n",
    "        # Memory growth must be set before GPUs have been initialized\n",
    "        print(e)"
   ]
  },
  {
   "cell_type": "code",
   "execution_count": 7,
   "metadata": {},
   "outputs": [],
   "source": [
    "from keras.preprocessing.image import ImageDataGenerator, array_to_img, img_to_array, load_img\n",
    "import tensorflow as tf\n",
    "from matplotlib import pyplot as plt\n",
    "import numpy as np\n",
    "from skimage import io\n",
    "from matplotlib import pyplot as plt\n",
    "from tqdm import tqdm\n",
    "import os\n",
    "import cv2\n",
    "import random\n",
    "batch_size = 3"
   ]
  },
  {
   "cell_type": "code",
   "execution_count": 8,
   "metadata": {},
   "outputs": [],
   "source": [
    "def add_noise(image, mean=0, val=0.01):\n",
    "    size = image.shape\n",
    "    image = image / 255\n",
    "    gauss = np.random.normal(mean, val ** 0.5, size)\n",
    "    noise = image + gauss\n",
    "    return gauss,noise"
   ]
  },
  {
   "cell_type": "code",
   "execution_count": 9,
   "metadata": {},
   "outputs": [],
   "source": [
    "def all(old_train_path,new_train_path):\n",
    "    fold_old = os.listdir(old_train_path) #假设old_path都在train目录\n",
    "    #newpath的定位也定在train下\n",
    "    for fold in fold_old:\n",
    "        fold_new_path = new_train_path + '/' + fold\n",
    "        if not os.path.exists(fold_new_path):\n",
    "            os.makedirs(fold_new_path)\n",
    "        old_path = old_train_path + '/' + fold\n",
    "        #图片的一个list\n",
    "        i = 0\n",
    "        j = 100\n",
    "        img_old = os.listdir(old_path)\n",
    "        for img_old in tqdm(img_old):\n",
    "            k = random.uniform(0,1)\n",
    "            if k>0 and k<=0.2:\n",
    "            #增加噪声\n",
    "                img = cv2.imread(old_path + '/' + img_old)\n",
    "                color_gauss,color_noisy_image = add_noise(img)\n",
    "                save_path = (fold_new_path + '/' +'{0}'+'.jpg').format(j)   \n",
    "                j += 1\n",
    "                color_noisy_image = color_noisy_image*255\n",
    "                cv2.imencode(\".jpg\", color_noisy_image)[1].tofile(save_path)\n",
    "            \n",
    "            #伽马变换\n",
    "            elif k>0.20 and k<=0.4:\n",
    "                img = cv2.imread(old_path + '/' + img_old)\n",
    "                normImg = lambda x: 255. * (x-x.min()) / (x.max()-x.min()+1e-6)  # 归一化为 [0,255]\n",
    "                gammaList = random.uniform(0.7,1.5)\n",
    "                imgGamma = np.power(img, gammaList)\n",
    "                imgGamma = np.uint8(normImg(imgGamma))\n",
    "                save_path = (fold_new_path + '/' +'{0}'+'.jpg').format(j)\n",
    "                j+=1\n",
    "                cv2.imencode(\".jpg\", imgGamma)[1].tofile(save_path)\n",
    "\n",
    "            #旋转变换\n",
    "            elif k>0.4 and k <= 0.8:\n",
    "                data_gen = ImageDataGenerator(rotation_range=3,\n",
    "                                    width_shift_range=0.02,\n",
    "                                    height_shift_range=0.02,\n",
    "                                    horizontal_flip=True,\n",
    "                                    zoom_range=0.03,\n",
    "                                    fill_mode='nearest',\n",
    "                                    rescale=1. / 255,\n",
    "                                    data_format='channels_last')\n",
    "                img=load_img(old_path+'/'+img_old)\n",
    "                x = img_to_array(img,data_format=\"channels_last\")   #图片转化成array类型,因flow()接收numpy数组为参数\n",
    "                x=x.reshape((1,) + x.shape)     #要求为4维\n",
    "\n",
    "                #使用for循环迭代,生成图片\n",
    "                i = 0\n",
    "                for batch in data_gen.flow(x,batch_size=1,\n",
    "                                        save_to_dir=fold_new_path,\n",
    "                                        save_prefix='rotation',\n",
    "                                        save_format='jpeg'):\n",
    "                    i += 1\n",
    "                    if i>0:\n",
    "                        break\n",
    "\n",
    "            #白化与亮度\n",
    "            else:\n",
    "                data_gen = ImageDataGenerator(\n",
    "                    rescale=1. / 255,\n",
    "                    rotation_range=3,\n",
    "                    width_shift_range=0.03,\n",
    "                    height_shift_range=0.03,\n",
    "                    shear_range=0.03,\n",
    "                    zoom_range=0.03,\n",
    "                    horizontal_flip=True,\n",
    "                    zca_whitening=True,\n",
    "                    brightness_range=[0.85, 1.15],\n",
    "                    fill_mode='nearest')\n",
    "                img=load_img(old_path+'/'+img_old)\n",
    "                x = img_to_array(img,data_format=\"channels_last\")   #图片转化成array类型,因flow()接收numpy数组为参数\n",
    "                x=x.reshape((1,) + x.shape)     #要求为4维\n",
    "\n",
    "                #使用for循环迭代,生成图片\n",
    "                i = 0\n",
    "                for batch in data_gen.flow(x,batch_size=1,\n",
    "                                        save_to_dir=fold_new_path,\n",
    "                                        save_prefix='white',\n",
    "                                        save_format='jpeg'):\n",
    "                    i += 1\n",
    "                    if i>0:\n",
    "                        break"
   ]
  },
  {
   "cell_type": "code",
   "execution_count": 10,
   "metadata": {},
   "outputs": [
    {
     "name": "stderr",
     "output_type": "stream",
     "text": [
      "  2%|▏         | 13/717 [00:00<00:05, 124.11it/s]d:\\anaconda3\\envs\\tensorflow-gpu\\lib\\site-packages\\keras_preprocessing\\image\\image_data_generator.py:337: UserWarning: This ImageDataGenerator specifies `zca_whitening`, which overrides setting of `featurewise_center`.\n",
      "  warnings.warn('This ImageDataGenerator specifies '\n",
      "d:\\anaconda3\\envs\\tensorflow-gpu\\lib\\site-packages\\keras_preprocessing\\image\\image_data_generator.py:720: UserWarning: This ImageDataGenerator specifies `featurewise_center`, but it hasn't been fit on any training data. Fit it first by calling `.fit(numpy_data)`.\n",
      "  warnings.warn('This ImageDataGenerator specifies '\n",
      "d:\\anaconda3\\envs\\tensorflow-gpu\\lib\\site-packages\\keras_preprocessing\\image\\image_data_generator.py:739: UserWarning: This ImageDataGenerator specifies `zca_whitening`, but it hasn't been fit on any training data. Fit it first by calling `.fit(numpy_data)`.\n",
      "  warnings.warn('This ImageDataGenerator specifies '\n",
      "100%|██████████| 717/717 [00:05<00:00, 124.29it/s]\n",
      "100%|██████████| 52/52 [00:00<00:00, 101.82it/s]\n",
      "100%|██████████| 2560/2560 [00:22<00:00, 116.01it/s]\n",
      "100%|██████████| 1792/1792 [00:17<00:00, 102.98it/s]\n"
     ]
    }
   ],
   "source": [
    "#集成函数\n",
    "old_train_path = 'D:/python code/NTU/data/Alzheimer_s Dataset/train'\n",
    "new_train_path = 'D:/python code/NTU/new data/Alzheimer_s Dataset/train'\n",
    "all(old_train_path,new_train_path)"
   ]
  }
 ],
 "metadata": {
  "kernelspec": {
   "display_name": "Python 3.6.13 ('tensorflow-gpu')",
   "language": "python",
   "name": "python3"
  },
  "language_info": {
   "codemirror_mode": {
    "name": "ipython",
    "version": 3
   },
   "file_extension": ".py",
   "mimetype": "text/x-python",
   "name": "python",
   "nbconvert_exporter": "python",
   "pygments_lexer": "ipython3",
   "version": "3.6.13"
  },
  "orig_nbformat": 4,
  "vscode": {
   "interpreter": {
    "hash": "4fa92b9dc5a4c9e95927d56c64a6a4c4dd484b280024c9be9da8a5e06e5cf9ef"
   }
  }
 },
 "nbformat": 4,
 "nbformat_minor": 2
}
