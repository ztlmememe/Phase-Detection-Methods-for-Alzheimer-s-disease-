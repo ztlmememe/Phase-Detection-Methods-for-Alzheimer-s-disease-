{
 "cells": [
  {
   "cell_type": "code",
   "execution_count": 1,
   "id": "59d416c5",
   "metadata": {
    "ExecuteTime": {
     "end_time": "2022-08-17T00:39:52.845022Z",
     "start_time": "2022-08-17T00:39:48.670128Z"
    }
   },
   "outputs": [],
   "source": [
    "#clear memory\n",
    "from keras.backend import set_session\n",
    "from keras.backend import clear_session\n",
    "from keras.backend import get_session\n",
    "import tensorflow as tf\n",
    "import gc\n",
    " \n",
    "# Reset Keras Session\n",
    "def reset_keras():\n",
    "    sess = get_session()\n",
    "    clear_session()\n",
    "    sess.close()\n",
    "    sess = get_session()\n",
    " \n",
    "    try:\n",
    "        del classifier # this is from global space - change this as you need\n",
    "    except:\n",
    "        pass\n",
    " \n",
    "    print(gc.collect()) # if it does something you should see a number as output\n",
    " \n",
    "    # use the same config as you used to create the session\n",
    "    config = tf.compat.v1.ConfigProto()\n",
    "    config.gpu_options.per_process_gpu_memory_fraction = 1\n",
    "    config.gpu_options.visible_device_list = \"0\"\n",
    "    set_session(tf.compat.v1.Session(config=config))\n"
   ]
  },
  {
   "cell_type": "code",
   "execution_count": 2,
   "id": "548d666f",
   "metadata": {
    "ExecuteTime": {
     "end_time": "2022-08-17T00:39:54.619999Z",
     "start_time": "2022-08-17T00:39:52.848023Z"
    }
   },
   "outputs": [
    {
     "name": "stdout",
     "output_type": "stream",
     "text": [
      "22\n"
     ]
    }
   ],
   "source": [
    "reset_keras()"
   ]
  },
  {
   "cell_type": "code",
   "execution_count": 3,
   "id": "7d3994ea",
   "metadata": {
    "ExecuteTime": {
     "end_time": "2022-08-17T00:39:54.636076Z",
     "start_time": "2022-08-17T00:39:54.622006Z"
    }
   },
   "outputs": [],
   "source": [
    "train_root = r'D:\\Program Files (x86)\\pythonProject\\python文件\\南洋理工\\WEEK3\\3-1\\Alzheimer_s Dataset\\train'\n",
    "test_root = r'D:\\Program Files (x86)\\pythonProject\\python文件\\南洋理工\\WEEK3\\3-1\\Alzheimer_s Dataset\\test'"
   ]
  },
  {
   "cell_type": "code",
   "execution_count": 4,
   "id": "ff869095",
   "metadata": {
    "ExecuteTime": {
     "end_time": "2022-08-17T00:39:54.652075Z",
     "start_time": "2022-08-17T00:39:54.638078Z"
    }
   },
   "outputs": [],
   "source": [
    "# parameter initialization\n",
    "dim = (176,208)                            "
   ]
  },
  {
   "cell_type": "code",
   "execution_count": 5,
   "id": "58c8d1a1",
   "metadata": {
    "ExecuteTime": {
     "end_time": "2022-08-17T00:39:56.119610Z",
     "start_time": "2022-08-17T00:39:54.654076Z"
    }
   },
   "outputs": [],
   "source": [
    "from skimage import io\n",
    "from keras.preprocessing.image import ImageDataGenerator\n",
    "import tensorflow as tf\n",
    "import numpy as np\n",
    "import matplotlib.pyplot as plt\n",
    "from sklearn.metrics import classification_report, confusion_matrix\n",
    "import seaborn as sn\n",
    "from tensorflow.keras import backend as K\n",
    "from tensorflow.keras.applications.vgg16 import VGG16, preprocess_input\n",
    "from tensorflow.keras.models import Sequential, Model, load_model\n",
    "from tensorflow.keras.layers import Dense, Flatten, Dropout, Activation, Conv2D, MaxPooling2D, LeakyReLU,BatchNormalization,GlobalAveragePooling2D\n",
    "from tensorflow.keras.callbacks import TensorBoard\n",
    "import pickle\n",
    "from PIL import Image\n",
    "import time\n",
    "import os\n",
    "from PIL import Image\n",
    "from tensorflow.keras.regularizers import l2\n",
    "from sklearn.model_selection import train_test_split\n",
    "from keras import regularizers"
   ]
  },
  {
   "cell_type": "code",
   "execution_count": 6,
   "id": "f04aa3e0",
   "metadata": {
    "ExecuteTime": {
     "end_time": "2022-08-17T00:39:56.135611Z",
     "start_time": "2022-08-17T00:39:56.120610Z"
    }
   },
   "outputs": [],
   "source": [
    "\n",
    "def data_loader_5000(train_root,test_root):\n",
    "    \n",
    "    #Set parameters for data generation\n",
    "    zoom = [.99,1.01]             \n",
    "    bright_range = [.8,1.2]                               \n",
    "    momentum = .9   \n",
    "    \n",
    "    train_dr = ImageDataGenerator(rescale=1./255,fill_mode='constant',cval=0,\n",
    "                                                               brightness_range=bright_range,zoom_range=zoom,\n",
    "                                                               data_format='channels_last',zca_whitening=False)\n",
    "\n",
    "    train_data_gen = train_dr.flow_from_directory(directory=train_root,target_size=dim,\n",
    "                                                  batch_size=5000)\n",
    "\n",
    "    test_dr = ImageDataGenerator(rescale=1./255,fill_mode='constant',cval=0,zoom_range=[1,1],\n",
    "                                                              data_format='channels_last') \n",
    "\n",
    "    test_data_gen = test_dr.flow_from_directory(directory=test_root,target_size=dim,batch_size=5000,\n",
    "                                               shuffle = False) \n",
    "\n",
    "    # Set parameters to segment the dataset\n",
    "    test_split_percent = .1       \n",
    "    validation_split_percent = .2 \n",
    "\n",
    "    train_data,train_labels =  train_data_gen.next()\n",
    "    test_data,test_labels = test_data_gen.next()\n",
    "    total_data = np.concatenate((train_data,test_data))\n",
    "    total_labels = np.concatenate((train_labels,test_labels))\n",
    "\n",
    "    initial_split = test_split_percent+validation_split_percent\n",
    "    test_val_split = test_split_percent/initial_split\n",
    "\n",
    "    train_data, test_val_data, train_labels, test_val_labels = train_test_split(total_data,total_labels,\n",
    "                                                                                test_size=initial_split)\n",
    "\n",
    "    test_data, val_data, test_labels, val_labels = train_test_split(test_val_data,test_val_labels,\n",
    "                                                                    test_size=test_val_split)\n",
    "    \n",
    "    return  train_data ,train_labels, test_data, val_data, test_labels, val_labels\n"
   ]
  },
  {
   "cell_type": "code",
   "execution_count": 7,
   "id": "5038e01a",
   "metadata": {
    "ExecuteTime": {
     "end_time": "2022-08-17T00:39:56.151611Z",
     "start_time": "2022-08-17T00:39:56.137612Z"
    }
   },
   "outputs": [],
   "source": [
    "from sklearn.metrics import accuracy_score, average_precision_score,precision_score,f1_score,recall_score\n",
    "from tensorflow.keras.callbacks import EarlyStopping, ModelCheckpoint,LearningRateScheduler,ReduceLROnPlateau\n",
    "import math\n",
    "\n",
    "earlyStopping = EarlyStopping(\n",
    "    monitor='val_accuracy', patience=8, verbose=1, mode='max', restore_best_weights=True)\n",
    "\n",
    "reduce = ReduceLROnPlateau(monitor='val_accuracy', factor=0.1,\n",
    "                           patience=5, verbose=1, mode='max', cooldown=1, min_lr=1e-8)\n",
    "\n",
    "callback_list = [earlyStopping, reduce]\n",
    "\n",
    "#Set the callback function for subsequent training"
   ]
  },
  {
   "cell_type": "code",
   "execution_count": 8,
   "id": "0a2dc7a0",
   "metadata": {
    "ExecuteTime": {
     "end_time": "2022-08-17T00:39:56.167611Z",
     "start_time": "2022-08-17T00:39:56.154611Z"
    }
   },
   "outputs": [],
   "source": [
    "#set optimizer\n",
    "# opt = tf.keras.optimizers.SGD(learning_rate=lr, momentum=momentum, nesterov=True,name='SGD') \n",
    "adam=tf.keras.optimizers.Adam(learning_rate=0.001)"
   ]
  },
  {
   "cell_type": "code",
   "execution_count": 17,
   "id": "5a2d131b",
   "metadata": {
    "ExecuteTime": {
     "end_time": "2022-08-17T02:58:23.569130Z",
     "start_time": "2022-08-17T02:58:23.556133Z"
    }
   },
   "outputs": [],
   "source": [
    "def get_result(model_history,vg_model,test_data, test_labels):\n",
    "    \n",
    "    #First intuitively calculate the accuracy\n",
    "    test_scores = vg_model.evaluate(test_data, test_labels)\n",
    "    print('Test Accuracy: %.2f%%'%(test_scores[1]*100))\n",
    "    \n",
    "    # Visualize the training process\n",
    "    fig, ax = plt.subplots(1, 2, figsize = (30, 5))\n",
    "    ax = ax.ravel()\n",
    "\n",
    "    for i, metric in enumerate([\"accuracy\", \"loss\"]):\n",
    "        ax[i].plot(model_history.history[metric])\n",
    "        ax[i].plot(model_history.history[\"val_\" + metric])\n",
    "        ax[i].set_title(\"Model {}\".format(metric))\n",
    "        ax[i].set_xlabel(\"Epochs\")\n",
    "        ax[i].set_ylabel(metric)\n",
    "        ax[i].legend([\"train\", \"val\"])\n",
    "        \n",
    "    # Calculate confusion matrix and visualize training results\n",
    "    pred = vg_model.predict(test_data)\n",
    "    pred=np.argmax(pred,axis=1)\n",
    "    cm = confusion_matrix(y_true= test_labels.argmax(axis=1),y_pred=pred,labels=[0,1,2,3])\n",
    "    \n",
    "    plt.figure(figsize=(8, 6), dpi=80, facecolor='w', edgecolor='k')\n",
    "    ax = sn.heatmap(cm, cmap='Blues', annot=True, fmt='d', xticklabels= ['Mild', 'Moderate', 'Normal', 'VeryMild'],\n",
    "            yticklabels=['Mild', 'Moderate', 'Normal', 'VeryMild'])\n",
    "    plt.title('Alzheimer\\'s disease classification')\n",
    "    plt.xlabel('Prediction')\n",
    "    plt.ylabel('Truth')\n",
    "    # plt.subplots(figsize=(9, 6))\n",
    "    plt.show(ax)\n",
    "    print('------Weighted-average Evaluation indicators------')\n",
    "    print('Weighted precision', precision_score(test_labels.argmax(axis=1), pred, average='weighted'))\n",
    "    print('Weighted recall', recall_score(test_labels.argmax(axis=1), pred, average='weighted'))\n",
    "    print('Weighted f1-score', f1_score(test_labels.argmax(axis=1), pred, average='weighted'))\n",
    "    print('------Macro-average Evaluation indicators------')\n",
    "    print('Macro precision', precision_score(test_labels.argmax(axis=1), pred, average='macro'))\n",
    "    print('Macro recall', recall_score(test_labels.argmax(axis=1), pred, average='macro'))\n",
    "    print('Macro f1-score', f1_score(test_labels.argmax(axis=1), pred, average='macro'))\n",
    "    print('------Micro-average Evaluation indicators------')\n",
    "    print('Micro precision', precision_score(test_labels.argmax(axis=1), pred, average='micro'))\n",
    "    print('Micro recall', recall_score(test_labels.argmax(axis=1), pred, average='micro'))\n",
    "    print('Micro f1-score', f1_score(test_labels.argmax(axis=1), pred, average='micro'))\n",
    "\n",
    "    \n"
   ]
  },
  {
   "cell_type": "code",
   "execution_count": 10,
   "id": "51d97bf3",
   "metadata": {
    "ExecuteTime": {
     "end_time": "2022-08-17T00:39:57.005610Z",
     "start_time": "2022-08-17T00:39:56.185610Z"
    },
    "scrolled": true
   },
   "outputs": [
    {
     "name": "stdout",
     "output_type": "stream",
     "text": [
      "Model: \"vgg16\"\n",
      "_________________________________________________________________\n",
      " Layer (type)                Output Shape              Param #   \n",
      "=================================================================\n",
      " input_1 (InputLayer)        [(None, 176, 208, 3)]     0         \n",
      "                                                                 \n",
      " block1_conv1 (Conv2D)       (None, 176, 208, 64)      1792      \n",
      "                                                                 \n",
      " block1_conv2 (Conv2D)       (None, 176, 208, 64)      36928     \n",
      "                                                                 \n",
      " block1_pool (MaxPooling2D)  (None, 88, 104, 64)       0         \n",
      "                                                                 \n",
      " block2_conv1 (Conv2D)       (None, 88, 104, 128)      73856     \n",
      "                                                                 \n",
      " block2_conv2 (Conv2D)       (None, 88, 104, 128)      147584    \n",
      "                                                                 \n",
      " block2_pool (MaxPooling2D)  (None, 44, 52, 128)       0         \n",
      "                                                                 \n",
      " block3_conv1 (Conv2D)       (None, 44, 52, 256)       295168    \n",
      "                                                                 \n",
      " block3_conv2 (Conv2D)       (None, 44, 52, 256)       590080    \n",
      "                                                                 \n",
      " block3_conv3 (Conv2D)       (None, 44, 52, 256)       590080    \n",
      "                                                                 \n",
      " block3_pool (MaxPooling2D)  (None, 22, 26, 256)       0         \n",
      "                                                                 \n",
      " block4_conv1 (Conv2D)       (None, 22, 26, 512)       1180160   \n",
      "                                                                 \n",
      " block4_conv2 (Conv2D)       (None, 22, 26, 512)       2359808   \n",
      "                                                                 \n",
      " block4_conv3 (Conv2D)       (None, 22, 26, 512)       2359808   \n",
      "                                                                 \n",
      " block4_pool (MaxPooling2D)  (None, 11, 13, 512)       0         \n",
      "                                                                 \n",
      " block5_conv1 (Conv2D)       (None, 11, 13, 512)       2359808   \n",
      "                                                                 \n",
      " block5_conv2 (Conv2D)       (None, 11, 13, 512)       2359808   \n",
      "                                                                 \n",
      " block5_conv3 (Conv2D)       (None, 11, 13, 512)       2359808   \n",
      "                                                                 \n",
      " block5_pool (MaxPooling2D)  (None, 5, 6, 512)         0         \n",
      "                                                                 \n",
      " global_max_pooling2d (Globa  (None, 512)              0         \n",
      " lMaxPooling2D)                                                  \n",
      "                                                                 \n",
      "=================================================================\n",
      "Total params: 14,714,688\n",
      "Trainable params: 14,714,688\n",
      "Non-trainable params: 0\n",
      "_________________________________________________________________\n",
      "Model: \"sequential\"\n",
      "_________________________________________________________________\n",
      " Layer (type)                Output Shape              Param #   \n",
      "=================================================================\n",
      " vgg16 (Functional)          (None, 512)               14714688  \n",
      "                                                                 \n",
      " flatten (Flatten)           (None, 512)               0         \n",
      "                                                                 \n",
      " dense (Dense)               (None, 1024)              525312    \n",
      "                                                                 \n",
      " batch_normalization (BatchN  (None, 1024)             4096      \n",
      " ormalization)                                                   \n",
      "                                                                 \n",
      " activation (Activation)     (None, 1024)              0         \n",
      "                                                                 \n",
      " dropout (Dropout)           (None, 1024)              0         \n",
      "                                                                 \n",
      " dense_1 (Dense)             (None, 4)                 4100      \n",
      "                                                                 \n",
      "=================================================================\n",
      "Total params: 15,248,196\n",
      "Trainable params: 15,246,148\n",
      "Non-trainable params: 2,048\n",
      "_________________________________________________________________\n"
     ]
    }
   ],
   "source": [
    "\n",
    "vg_model = tf.keras.applications.vgg16.VGG16(include_top=False,weights='imagenet',\n",
    "                                             input_shape=(dim[0],dim[1],3), pooling = 'max',\n",
    "                                            classes =4) \n",
    "# vg_model.get_layer('block5_conv1').trainable = False\n",
    "# vg_model.get_layer('block5_conv2').trainable = False\n",
    "# vg_model.get_layer('block5_conv3').trainable = False\n",
    "\n",
    "vg_model.summary()\n",
    "\n",
    "model=Sequential()\n",
    "model.add(vg_model)\n",
    "model.add(Flatten())\n",
    "\n",
    "model.add(Dense(1024,\n",
    "                kernel_regularizer=regularizers.l2(0.0001),\n",
    "                kernel_initializer='he_uniform')\n",
    "          )\n",
    "model.add(BatchNormalization())\n",
    "model.add(Activation('relu'))\n",
    "#     model.add(Dropout(0.25) )\n",
    "model.add(Dropout(0.3) )\n",
    "\n",
    "model.add(Dense(4,activation='softmax') )\n",
    "model.summary()"
   ]
  },
  {
   "cell_type": "code",
   "execution_count": 11,
   "id": "b649187e",
   "metadata": {
    "ExecuteTime": {
     "end_time": "2022-08-17T00:39:57.020609Z",
     "start_time": "2022-08-17T00:39:57.007610Z"
    }
   },
   "outputs": [],
   "source": [
    "model.compile(optimizer=adam, loss=tf.keras.losses.categorical_crossentropy, metrics=['accuracy'])"
   ]
  },
  {
   "cell_type": "code",
   "execution_count": 12,
   "id": "b9438954",
   "metadata": {
    "ExecuteTime": {
     "end_time": "2022-08-17T00:40:40.494453Z",
     "start_time": "2022-08-17T00:39:57.021611Z"
    }
   },
   "outputs": [
    {
     "name": "stdout",
     "output_type": "stream",
     "text": [
      "Found 5071 images belonging to 4 classes.\n",
      "Found 1279 images belonging to 4 classes.\n"
     ]
    }
   ],
   "source": [
    "#Generate data\n",
    "train_data ,train_labels, test_data, val_data, test_labels, val_labels = data_loader_5000(train_root , test_root)"
   ]
  },
  {
   "cell_type": "code",
   "execution_count": 13,
   "id": "97ddf74d",
   "metadata": {
    "ExecuteTime": {
     "end_time": "2022-08-17T01:31:18.781218Z",
     "start_time": "2022-08-17T00:40:40.496453Z"
    }
   },
   "outputs": [
    {
     "name": "stdout",
     "output_type": "stream",
     "text": [
      "Epoch 1/100\n",
      "220/220 [==============================] - 77s 298ms/step - loss: 1.2979 - accuracy: 0.5331 - val_loss: 1.2578 - val_accuracy: 0.5525 - lr: 1.0000e-04\n",
      "Epoch 2/100\n",
      "220/220 [==============================] - 75s 340ms/step - loss: 0.9797 - accuracy: 0.6701 - val_loss: 0.9802 - val_accuracy: 0.6433 - lr: 1.0000e-04\n",
      "Epoch 3/100\n",
      "220/220 [==============================] - 76s 348ms/step - loss: 0.7759 - accuracy: 0.7672 - val_loss: 0.7356 - val_accuracy: 0.7691 - lr: 1.0000e-04\n",
      "Epoch 4/100\n",
      "220/220 [==============================] - 76s 345ms/step - loss: 0.6268 - accuracy: 0.8389 - val_loss: 0.6978 - val_accuracy: 0.7803 - lr: 1.0000e-04\n",
      "Epoch 5/100\n",
      "220/220 [==============================] - 75s 340ms/step - loss: 0.5144 - accuracy: 0.8858 - val_loss: 0.6547 - val_accuracy: 0.8232 - lr: 1.0000e-04\n",
      "Epoch 6/100\n",
      "220/220 [==============================] - 75s 341ms/step - loss: 0.4242 - accuracy: 0.9295 - val_loss: 0.5053 - val_accuracy: 0.8838 - lr: 1.0000e-04\n",
      "Epoch 7/100\n",
      "220/220 [==============================] - 75s 340ms/step - loss: 0.3750 - accuracy: 0.9511 - val_loss: 0.5066 - val_accuracy: 0.8806 - lr: 1.0000e-04\n",
      "Epoch 8/100\n",
      "220/220 [==============================] - 77s 348ms/step - loss: 0.3288 - accuracy: 0.9686 - val_loss: 0.5215 - val_accuracy: 0.8806 - lr: 1.0000e-04\n",
      "Epoch 9/100\n",
      "220/220 [==============================] - 76s 344ms/step - loss: 0.3022 - accuracy: 0.9786 - val_loss: 0.3858 - val_accuracy: 0.9236 - lr: 1.0000e-04\n",
      "Epoch 10/100\n",
      "220/220 [==============================] - 76s 347ms/step - loss: 0.2762 - accuracy: 0.9863 - val_loss: 0.3652 - val_accuracy: 0.9427 - lr: 1.0000e-04\n",
      "Epoch 11/100\n",
      "220/220 [==============================] - 76s 344ms/step - loss: 0.2662 - accuracy: 0.9882 - val_loss: 0.3865 - val_accuracy: 0.9395 - lr: 1.0000e-04\n",
      "Epoch 12/100\n",
      "220/220 [==============================] - 76s 346ms/step - loss: 0.2518 - accuracy: 0.9918 - val_loss: 0.3538 - val_accuracy: 0.9522 - lr: 1.0000e-04\n",
      "Epoch 13/100\n",
      "220/220 [==============================] - 75s 340ms/step - loss: 0.2392 - accuracy: 0.9961 - val_loss: 0.3808 - val_accuracy: 0.9347 - lr: 1.0000e-04\n",
      "Epoch 14/100\n",
      "220/220 [==============================] - 76s 347ms/step - loss: 0.2442 - accuracy: 0.9929 - val_loss: 0.4402 - val_accuracy: 0.9045 - lr: 1.0000e-04\n",
      "Epoch 15/100\n",
      "220/220 [==============================] - 76s 346ms/step - loss: 0.2389 - accuracy: 0.9957 - val_loss: 0.3093 - val_accuracy: 0.9634 - lr: 1.0000e-04\n",
      "Epoch 16/100\n",
      "220/220 [==============================] - 77s 348ms/step - loss: 0.2265 - accuracy: 0.9984 - val_loss: 0.3144 - val_accuracy: 0.9634 - lr: 1.0000e-04\n",
      "Epoch 17/100\n",
      "220/220 [==============================] - 75s 343ms/step - loss: 0.2263 - accuracy: 0.9977 - val_loss: 0.3219 - val_accuracy: 0.9634 - lr: 1.0000e-04\n",
      "Epoch 18/100\n",
      "220/220 [==============================] - 76s 347ms/step - loss: 0.2254 - accuracy: 0.9975 - val_loss: 0.3175 - val_accuracy: 0.9634 - lr: 1.0000e-04\n",
      "Epoch 19/100\n",
      "220/220 [==============================] - 76s 348ms/step - loss: 0.2235 - accuracy: 0.9984 - val_loss: 0.2933 - val_accuracy: 0.9682 - lr: 1.0000e-04\n",
      "Epoch 20/100\n",
      "220/220 [==============================] - 77s 349ms/step - loss: 0.2218 - accuracy: 0.9991 - val_loss: 0.2909 - val_accuracy: 0.9697 - lr: 1.0000e-04\n",
      "Epoch 21/100\n",
      "220/220 [==============================] - 76s 344ms/step - loss: 0.2205 - accuracy: 0.9991 - val_loss: 0.3113 - val_accuracy: 0.9618 - lr: 1.0000e-04\n",
      "Epoch 22/100\n",
      "220/220 [==============================] - 76s 347ms/step - loss: 0.2167 - accuracy: 0.9991 - val_loss: 0.2943 - val_accuracy: 0.9713 - lr: 1.0000e-04\n",
      "Epoch 23/100\n",
      "220/220 [==============================] - 76s 345ms/step - loss: 0.2194 - accuracy: 0.9980 - val_loss: 0.3015 - val_accuracy: 0.9650 - lr: 1.0000e-04\n",
      "Epoch 24/100\n",
      "220/220 [==============================] - 76s 347ms/step - loss: 0.2193 - accuracy: 0.9980 - val_loss: 0.2906 - val_accuracy: 0.9713 - lr: 1.0000e-04\n",
      "Epoch 25/100\n",
      "220/220 [==============================] - 75s 341ms/step - loss: 0.2144 - accuracy: 0.9995 - val_loss: 0.2927 - val_accuracy: 0.9682 - lr: 1.0000e-04\n",
      "Epoch 26/100\n",
      "220/220 [==============================] - 76s 345ms/step - loss: 0.2172 - accuracy: 0.9993 - val_loss: 0.2842 - val_accuracy: 0.9682 - lr: 1.0000e-04\n",
      "Epoch 27/100\n",
      "220/220 [==============================] - ETA: 0s - loss: 0.2125 - accuracy: 1.0000\n",
      "Epoch 27: ReduceLROnPlateau reducing learning rate to 9.999999747378752e-06.\n",
      "220/220 [==============================] - 76s 347ms/step - loss: 0.2125 - accuracy: 1.0000 - val_loss: 0.2835 - val_accuracy: 0.9713 - lr: 1.0000e-04\n",
      "Epoch 28/100\n",
      "220/220 [==============================] - 76s 346ms/step - loss: 0.2139 - accuracy: 0.9998 - val_loss: 0.2791 - val_accuracy: 0.9729 - lr: 1.0000e-05\n",
      "Epoch 29/100\n",
      "220/220 [==============================] - 76s 347ms/step - loss: 0.2127 - accuracy: 0.9995 - val_loss: 0.2782 - val_accuracy: 0.9745 - lr: 1.0000e-05\n",
      "Epoch 30/100\n",
      "220/220 [==============================] - 76s 345ms/step - loss: 0.2126 - accuracy: 0.9995 - val_loss: 0.2785 - val_accuracy: 0.9729 - lr: 1.0000e-05\n",
      "Epoch 31/100\n",
      "220/220 [==============================] - 76s 347ms/step - loss: 0.2118 - accuracy: 1.0000 - val_loss: 0.2786 - val_accuracy: 0.9761 - lr: 1.0000e-05\n",
      "Epoch 32/100\n",
      "220/220 [==============================] - 76s 348ms/step - loss: 0.2113 - accuracy: 0.9995 - val_loss: 0.2776 - val_accuracy: 0.9777 - lr: 1.0000e-05\n",
      "Epoch 33/100\n",
      "220/220 [==============================] - 76s 346ms/step - loss: 0.2129 - accuracy: 0.9995 - val_loss: 0.2773 - val_accuracy: 0.9745 - lr: 1.0000e-05\n",
      "Epoch 34/100\n",
      "220/220 [==============================] - 76s 344ms/step - loss: 0.2109 - accuracy: 1.0000 - val_loss: 0.2777 - val_accuracy: 0.9745 - lr: 1.0000e-05\n",
      "Epoch 35/100\n",
      "220/220 [==============================] - 75s 343ms/step - loss: 0.2118 - accuracy: 0.9998 - val_loss: 0.2772 - val_accuracy: 0.9745 - lr: 1.0000e-05\n",
      "Epoch 36/100\n",
      "220/220 [==============================] - 76s 345ms/step - loss: 0.2117 - accuracy: 1.0000 - val_loss: 0.2749 - val_accuracy: 0.9761 - lr: 1.0000e-05\n",
      "Epoch 37/100\n",
      "220/220 [==============================] - ETA: 0s - loss: 0.2108 - accuracy: 0.9998\n",
      "Epoch 37: ReduceLROnPlateau reducing learning rate to 9.999999747378752e-07.\n",
      "220/220 [==============================] - 76s 347ms/step - loss: 0.2108 - accuracy: 0.9998 - val_loss: 0.2743 - val_accuracy: 0.9761 - lr: 1.0000e-05\n",
      "Epoch 38/100\n",
      "220/220 [==============================] - 76s 345ms/step - loss: 0.2124 - accuracy: 1.0000 - val_loss: 0.2736 - val_accuracy: 0.9777 - lr: 1.0000e-06\n",
      "Epoch 39/100\n",
      "220/220 [==============================] - 76s 345ms/step - loss: 0.2104 - accuracy: 1.0000 - val_loss: 0.2737 - val_accuracy: 0.9777 - lr: 1.0000e-06\n",
      "Epoch 40/100\n",
      "220/220 [==============================] - ETA: 0s - loss: 0.2125 - accuracy: 1.0000Restoring model weights from the end of the best epoch: 32.\n",
      "220/220 [==============================] - 76s 345ms/step - loss: 0.2125 - accuracy: 1.0000 - val_loss: 0.2735 - val_accuracy: 0.9777 - lr: 1.0000e-06\n",
      "Epoch 40: early stopping\n"
     ]
    }
   ],
   "source": [
    "#Train the model\n",
    "model_history = model.fit(train_data,train_labels,validation_data=(val_data,val_labels),\n",
    "                          batch_size = 20,\n",
    "                          callbacks= callback_list,\n",
    "                          epochs=100, shuffle=True) \n"
   ]
  },
  {
   "cell_type": "code",
   "execution_count": 14,
   "id": "2ef5d6f7",
   "metadata": {
    "ExecuteTime": {
     "end_time": "2022-08-17T01:31:26.770471Z",
     "start_time": "2022-08-17T01:31:18.784219Z"
    }
   },
   "outputs": [
    {
     "name": "stdout",
     "output_type": "stream",
     "text": [
      "40/40 [==============================] - 7s 134ms/step - loss: 0.2531 - accuracy: 0.9833\n",
      "Accuracy: 98.33%\n"
     ]
    }
   ],
   "source": [
    "scores = model.evaluate(test_data, test_labels)\n",
    "print(\"Accuracy: %.2f%%\" %(scores[1]*100))"
   ]
  },
  {
   "cell_type": "code",
   "execution_count": 18,
   "id": "9e2d890b",
   "metadata": {
    "ExecuteTime": {
     "end_time": "2022-08-17T02:58:39.285428Z",
     "start_time": "2022-08-17T02:58:29.006671Z"
    }
   },
   "outputs": [
    {
     "name": "stdout",
     "output_type": "stream",
     "text": [
      "15357\n",
      "40/40 [==============================] - 4s 109ms/step - loss: 0.2531 - accuracy: 0.9833\n",
      "Test Accuracy: 98.33%\n",
      "40/40 [==============================] - 4s 107ms/step\n"
     ]
    },
    {
     "data": {
      "image/png": "[encoded data removed]",
      "text/plain": [
       "<Figure size 2160x360 with 2 Axes>"
      ]
     },
     "metadata": {
      "needs_background": "light"
     },
     "output_type": "display_data"
    },
    {
     "data": {
      "image/png": "[encoded data removed]",
      "text/plain": [
       "<Figure size 640x480 with 2 Axes>"
      ]
     },
     "metadata": {},
     "output_type": "display_data"
    },
    {
     "name": "stdout",
     "output_type": "stream",
     "text": [
      "------Weighted-average Evaluation indicators------\n",
      "Weighted precision 0.9833032080840156\n",
      "Weighted recall 0.98328025477707\n",
      "Weighted f1-score 0.983278814914878\n",
      "------Macro-average Evaluation indicators------\n",
      "Macro precision 0.9849621887740245\n",
      "Macro recall 0.9867775249596611\n",
      "Macro f1-score 0.9858531027366764\n",
      "------Micro-average Evaluation indicators------\n",
      "Micro precision 0.98328025477707\n",
      "Micro recall 0.98328025477707\n",
      "Micro f1-score 0.98328025477707\n"
     ]
    }
   ],
   "source": [
    "reset_keras()#Clear memory to avoid problems\n",
    "get_result(model_history,model,test_data,test_labels)"
   ]
  },
  {
   "cell_type": "code",
   "execution_count": null,
   "id": "b8891531",
   "metadata": {},
   "outputs": [],
   "source": []
  }
 ],
 "metadata": {
  "kernelspec": {
   "display_name": "Python 3 (ipykernel)",
   "language": "python",
   "name": "python3"
  },
  "language_info": {
   "codemirror_mode": {
    "name": "ipython",
    "version": 3
   },
   "file_extension": ".py",
   "mimetype": "text/x-python",
   "name": "python",
   "nbconvert_exporter": "python",
   "pygments_lexer": "ipython3",
   "version": "3.9.12"
  }
 },
 "nbformat": 4,
 "nbformat_minor": 5
}
